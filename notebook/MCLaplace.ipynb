{
 "cells": [
  {
   "cell_type": "markdown",
   "metadata": {},
   "source": [
    "Import libraries"
   ]
  },
  {
   "cell_type": "code",
   "execution_count": 1,
   "metadata": {
    "collapsed": true
   },
   "outputs": [],
   "source": [
    "import numpy as np\n",
    "import pandas as pd\n",
    "import matplotlib.pyplot as plt"
   ]
  },
  {
   "cell_type": "markdown",
   "metadata": {},
   "source": [
    "Load boundary conditions"
   ]
  },
  {
   "cell_type": "code",
   "execution_count": 2,
   "metadata": {
    "collapsed": true
   },
   "outputs": [],
   "source": [
    "def load_bc(path):\n",
    "    return np.array(pd.read_csv(path, header=None, dtype='float32')).T"
   ]
  },
  {
   "cell_type": "code",
   "execution_count": 3,
   "metadata": {
    "collapsed": true
   },
   "outputs": [],
   "source": [
    "box_bc = load_bc('../boundaries/box_boundary_condition.csv')\n",
    "windmill_bc = load_bc('../boundaries/windmill_boundary_condition.csv')"
   ]
  },
  {
   "cell_type": "markdown",
   "metadata": {},
   "source": [
    "Plot the heatmap"
   ]
  },
  {
   "cell_type": "code",
   "execution_count": 4,
   "metadata": {},
   "outputs": [
    {
     "data": {
      "image/png": "[encoded data removed]",
      "text/plain": [
       "<Figure size 576x288 with 4 Axes>"
      ]
     },
     "metadata": {},
     "output_type": "display_data"
    }
   ],
   "source": [
    "fig, ax = plt.subplots(1,2, figsize=(8,4))\n",
    "fig.suptitle('Electric Potential Heatmap')\n",
    "\n",
    "ax[0].set_title('Box Boundary Condition')\n",
    "box_map = ax[0].imshow(box_bc.T)\n",
    "ax[0].figure.colorbar(box_map, ax=ax[0])\n",
    "\n",
    "ax[1].set_title('\\'Windmill\\' Boundary Condition')\n",
    "windmill_map = ax[1].imshow(windmill_bc.T)\n",
    "ax[1].figure.colorbar(windmill_map, ax=ax[1])\n",
    "\n",
    "plt.show()"
   ]
  },
  {
   "cell_type": "markdown",
   "metadata": {},
   "source": [
    "MC sampling"
   ]
  },
  {
   "cell_type": "code",
   "execution_count": 5,
   "metadata": {
    "collapsed": true
   },
   "outputs": [],
   "source": [
    "def sample_V(X, boundary, save_trajectory=False):\n",
    "    step_choices = [(0,1), (0,-1), (1,0), (-1,0)]\n",
    "    if save_trajectory:\n",
    "        Xt = [X]\n",
    "    while str(boundary[X[0]][X[1]]) == 'nan':\n",
    "        X = X + step_choices[np.random.choice(range(4))]\n",
    "        if save_trajectory:\n",
    "            Xt.append(X)\n",
    "    if save_trajectory:\n",
    "        return boundary[X[0]][X[1]], Xt\n",
    "    else:\n",
    "        return boundary[X[0]][X[1]]"
   ]
  },
  {
   "cell_type": "code",
   "execution_count": 6,
   "metadata": {},
   "outputs": [
    {
     "name": "stdout",
     "output_type": "stream",
     "text": [
      "9.6\n"
     ]
    }
   ],
   "source": [
    "Vs = []\n",
    "Xts = []\n",
    "X_start = np.array([2,10])\n",
    "for i in range(50):\n",
    "    V, Xt = sample_V(X_start, box_bc, True)\n",
    "    Vs.append(V)\n",
    "    Xts.append(Xt)\n",
    "print(np.mean(Vs))"
   ]
  },
  {
   "cell_type": "code",
   "execution_count": 7,
   "metadata": {},
   "outputs": [
    {
     "data": {
      "image/png": "[encoded data removed]",
      "text/plain": [
       "<Figure size 432x288 with 1 Axes>"
      ]
     },
     "metadata": {},
     "output_type": "display_data"
    }
   ],
   "source": [
    "fig, ax = plt.subplots()\n",
    "plt.xticks(np.arange(0,12,1))\n",
    "plt.yticks(np.arange(0,12,1))\n",
    "plt.xlim(0,12)\n",
    "plt.ylim(12,0)\n",
    "plt.grid()\n",
    "for i in range(50):\n",
    "    ax.plot([X[0] for X in Xts[i]],[X[1] for X in Xts[i]])\n",
    "plt.show()"
   ]
  },
  {
   "cell_type": "code",
   "execution_count": null,
   "metadata": {
    "collapsed": true
   },
   "outputs": [],
   "source": []
  }
 ],
 "metadata": {
  "kernelspec": {
   "display_name": "Environment (conda_anaconda3)",
   "language": "python",
   "name": "conda_anaconda3"
  },
  "language_info": {
   "codemirror_mode": {
    "name": "ipython",
    "version": 3
   },
   "file_extension": ".py",
   "mimetype": "text/x-python",
   "name": "python",
   "nbconvert_exporter": "python",
   "pygments_lexer": "ipython3",
   "version": "3.6.6"
  }
 },
 "nbformat": 4,
 "nbformat_minor": 2
}
